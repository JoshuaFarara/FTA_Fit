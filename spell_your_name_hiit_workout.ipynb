{
 "cells": [
  {
   "cell_type": "code",
   "execution_count": 1,
   "metadata": {},
   "outputs": [],
   "source": [
    "workout_dict = {\n",
    "    'A':'20 burpees with jump',\n",
    "    'B':'20 squats',\n",
    "    'C':'20 pushups',\n",
    "    'D':'10 pull ups',\n",
    "    'E':'25 situps',\n",
    "    'F':'20 lunges(10 ea. leg)',\n",
    "    'G':'20 dips',\n",
    "    'H':'1 minute wall sit',\n",
    "    'I':'30 high knees',\n",
    "    'J':'10 jump squats',\n",
    "    'K':'50 mountain climbers',\n",
    "    'L':'60 second plank',\n",
    "    'M':'10 Diamond pushups',\n",
    "    'N':'30 Russion twists',\n",
    "    'O':'10 Pistol Squats (10 ea. leg)',\n",
    "    'P':'10 Truck jumps',\n",
    "    'Q':'30 Scissor kicks',\n",
    "    'R':'1 minute side plank (30s ea. side)',\n",
    "    'S':'20 Tyson pushups',\n",
    "    'T':'10 Navy Seal burpees',\n",
    "    'U':'10 Chin ups',\n",
    "    'V':'20 Toe touches',\n",
    "    'W':'20 Bicycle crunches',\n",
    "    'X':'2 minute jump rope',\n",
    "    'Y':'20 V-ups',\n",
    "    'Z':'30 Crunches',\n",
    "    }"
   ]
  },
  {
   "cell_type": "code",
   "execution_count": 2,
   "metadata": {},
   "outputs": [],
   "source": [
    "def get_name():\n",
    "    \"\"\"Recieve the users name.\"\"\"\n",
    "    \n",
    "    name = input(\"Enter your name: \")\n",
    "    print(\"Your name is: \" + name)\n",
    "    return name"
   ]
  },
  {
   "cell_type": "code",
   "execution_count": 3,
   "metadata": {},
   "outputs": [],
   "source": [
    "def name_letters(name):\n",
    "    \"\"\"Single out the letters of the name into a dictionary.\"\"\"\n",
    "    name_letters = []    \n",
    "    for ele in name.upper():\n",
    "        if ele.isalpha():  # Skip spaces and non-alphabet characters\n",
    "            name_letters.append(ele)\n",
    "    print(\"The letters in your name are :\\n \"+ str(name_letters))\n",
    "    return name_letters\n"
   ]
  },
  {
   "cell_type": "code",
   "execution_count": 4,
   "metadata": {},
   "outputs": [],
   "source": [
    "def generate_workout(workout_dict, name_letters):\n",
    "    \"\"\"Creates a Workout customized to the user's name.\"\"\"\n",
    "    print(\"\\nYour workout based on your name:\")\n",
    "    for letter in name_letters:\n",
    "        workout = workout_dict.get(letter)\n",
    "        if workout:\n",
    "            print(f\"{letter}: {workout}\")\n",
    "        else:\n",
    "           print(f\"{letter}: No workout defined for this letter\")\n",
    "    return"
   ]
  },
  {
   "cell_type": "code",
   "execution_count": 5,
   "metadata": {},
   "outputs": [
    {
     "name": "stdout",
     "output_type": "stream",
     "text": [
      "Your name is: joshua farara\n",
      "The letters in your name are :\n",
      " ['J', 'O', 'S', 'H', 'U', 'A', 'F', 'A', 'R', 'A', 'R', 'A']\n",
      "\n",
      "Your workout based on your name:\n",
      "J: 10 jump squats\n",
      "O: 10 Pistol Squats (10 ea. leg)\n",
      "S: 20 Tyson pushups\n",
      "H: 1 minute wall sit\n",
      "U: 10 Chin ups\n",
      "A: 20 burpees with jump\n",
      "F: 20 lunges(10 ea. leg)\n",
      "A: 20 burpees with jump\n",
      "R: 1 minute side plank (30s ea. side)\n",
      "A: 20 burpees with jump\n",
      "R: 1 minute side plank (30s ea. side)\n",
      "A: 20 burpees with jump\n"
     ]
    }
   ],
   "source": [
    "name = get_name()\n",
    "letters = name_letters(name)\n",
    "generate_workout(workout_dict, letters)"
   ]
  }
 ],
 "metadata": {
  "kernelspec": {
   "display_name": "Python 3",
   "language": "python",
   "name": "python3"
  },
  "language_info": {
   "codemirror_mode": {
    "name": "ipython",
    "version": 3
   },
   "file_extension": ".py",
   "mimetype": "text/x-python",
   "name": "python",
   "nbconvert_exporter": "python",
   "pygments_lexer": "ipython3",
   "version": "3.12.3"
  }
 },
 "nbformat": 4,
 "nbformat_minor": 2
}
